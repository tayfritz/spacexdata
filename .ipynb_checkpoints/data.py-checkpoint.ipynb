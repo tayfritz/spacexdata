{
 "cells": [
  {
   "cell_type": "code",
   "execution_count": 45,
   "metadata": {},
   "outputs": [],
   "source": [
    "import requests\n",
    "import pandas as pd\n",
    "from pandas import DataFrame\n",
    "import datetime\n",
    "from collections import Counter\n",
    "import matplotlib.pyplot as plt\n",
    "import numpy as np"
   ]
  },
  {
   "cell_type": "markdown",
   "metadata": {},
   "source": [
    "# Gather data via API's for past launch and upcoming launch data"
   ]
  },
  {
   "cell_type": "code",
   "execution_count": 46,
   "metadata": {},
   "outputs": [],
   "source": [
    "first_URL = 'https://api.spacexdata.com/v3/launches/upcoming'\n",
    "fr = requests.get(first_URL)\n",
    "upcoming_launches = fr.json()\n",
    "\n",
    "\n",
    "second_URL = 'https://api.spacexdata.com/v3/launches/past'\n",
    "sd = requests.get(second_URL)\n",
    "past_launches = sd.json()"
   ]
  },
  {
   "cell_type": "code",
   "execution_count": 47,
   "metadata": {
    "scrolled": false
   },
   "outputs": [],
   "source": [
    "num_past = len(past_launches)\n",
    "num_upcoming = len(upcoming_launches)\n",
    "\n",
    "datetime_format = \"%Y-%m-%dT%H:%M:%S.%fZ\"\n",
    "date_string = '%B %d, %Y'\n",
    "time_string = \"%I:%M%p\""
   ]
  },
  {
   "cell_type": "markdown",
   "metadata": {},
   "source": [
    "# Past Launch Data and Summary"
   ]
  },
  {
   "cell_type": "code",
   "execution_count": 48,
   "metadata": {
    "scrolled": true
   },
   "outputs": [
    {
     "data": {
      "text/html": [
       "<div>\n",
       "<style scoped>\n",
       "    .dataframe tbody tr th:only-of-type {\n",
       "        vertical-align: middle;\n",
       "    }\n",
       "\n",
       "    .dataframe tbody tr th {\n",
       "        vertical-align: top;\n",
       "    }\n",
       "\n",
       "    .dataframe thead th {\n",
       "        text-align: right;\n",
       "    }\n",
       "</style>\n",
       "<table border=\"1\" class=\"dataframe\">\n",
       "  <thead>\n",
       "    <tr style=\"text-align: right;\">\n",
       "      <th></th>\n",
       "      <th>Flight Number</th>\n",
       "      <th>Rocket Name</th>\n",
       "      <th>Launch Date/Time</th>\n",
       "      <th>Payload</th>\n",
       "      <th>Payload Weight</th>\n",
       "      <th>Crew</th>\n",
       "      <th>Mission Details</th>\n",
       "    </tr>\n",
       "  </thead>\n",
       "  <tbody>\n",
       "    <tr>\n",
       "      <th>0</th>\n",
       "      <td>1</td>\n",
       "      <td>Falcon 1</td>\n",
       "      <td>2006-03-24T22:30:00.000Z</td>\n",
       "      <td>Satellite</td>\n",
       "      <td>43.000</td>\n",
       "      <td>None</td>\n",
       "      <td>Engine failure at 33 seconds and loss of vehicle</td>\n",
       "    </tr>\n",
       "    <tr>\n",
       "      <th>1</th>\n",
       "      <td>2</td>\n",
       "      <td>Falcon 1</td>\n",
       "      <td>2007-03-21T01:10:00.000Z</td>\n",
       "      <td>Satellite</td>\n",
       "      <td>NaN</td>\n",
       "      <td>None</td>\n",
       "      <td>Successful first stage burn and transition to ...</td>\n",
       "    </tr>\n",
       "    <tr>\n",
       "      <th>2</th>\n",
       "      <td>3</td>\n",
       "      <td>Falcon 1</td>\n",
       "      <td>2008-08-03T03:34:00.000Z</td>\n",
       "      <td>Satellite</td>\n",
       "      <td>NaN</td>\n",
       "      <td>None</td>\n",
       "      <td>Residual stage 1 thrust led to collision betwe...</td>\n",
       "    </tr>\n",
       "    <tr>\n",
       "      <th>3</th>\n",
       "      <td>4</td>\n",
       "      <td>Falcon 1</td>\n",
       "      <td>2008-09-28T23:15:00.000Z</td>\n",
       "      <td>Satellite</td>\n",
       "      <td>363.000</td>\n",
       "      <td>None</td>\n",
       "      <td>Ratsat was carried to orbit on the first succe...</td>\n",
       "    </tr>\n",
       "    <tr>\n",
       "      <th>4</th>\n",
       "      <td>5</td>\n",
       "      <td>Falcon 1</td>\n",
       "      <td>2009-07-13T03:35:00.000Z</td>\n",
       "      <td>Satellite</td>\n",
       "      <td>440.000</td>\n",
       "      <td>None</td>\n",
       "      <td>None</td>\n",
       "    </tr>\n",
       "    <tr>\n",
       "      <th>...</th>\n",
       "      <td>...</td>\n",
       "      <td>...</td>\n",
       "      <td>...</td>\n",
       "      <td>...</td>\n",
       "      <td>...</td>\n",
       "      <td>...</td>\n",
       "      <td>...</td>\n",
       "    </tr>\n",
       "    <tr>\n",
       "      <th>101</th>\n",
       "      <td>102</td>\n",
       "      <td>Falcon 9</td>\n",
       "      <td>2020-09-03T12:46:00.000Z</td>\n",
       "      <td>Satellite</td>\n",
       "      <td>33951.200</td>\n",
       "      <td>None</td>\n",
       "      <td>The 11th operational batch of Starlink satelli...</td>\n",
       "    </tr>\n",
       "    <tr>\n",
       "      <th>102</th>\n",
       "      <td>103</td>\n",
       "      <td>Falcon 9</td>\n",
       "      <td>2020-10-06T11:29:00.000Z</td>\n",
       "      <td>Satellite</td>\n",
       "      <td>33951.200</td>\n",
       "      <td>None</td>\n",
       "      <td>This mission will launch the twelfth batch of ...</td>\n",
       "    </tr>\n",
       "    <tr>\n",
       "      <th>103</th>\n",
       "      <td>104</td>\n",
       "      <td>Falcon 9</td>\n",
       "      <td>2020-10-18T12:25:00.000Z</td>\n",
       "      <td>Satellite</td>\n",
       "      <td>33951.200</td>\n",
       "      <td>None</td>\n",
       "      <td>This mission will launch the thirteenth batch ...</td>\n",
       "    </tr>\n",
       "    <tr>\n",
       "      <th>104</th>\n",
       "      <td>105</td>\n",
       "      <td>Falcon 9</td>\n",
       "      <td>2020-10-24T15:31:00.000Z</td>\n",
       "      <td>Satellite</td>\n",
       "      <td>33951.200</td>\n",
       "      <td>None</td>\n",
       "      <td>This mission will launch the fourteenth batch ...</td>\n",
       "    </tr>\n",
       "    <tr>\n",
       "      <th>105</th>\n",
       "      <td>106</td>\n",
       "      <td>Falcon 9</td>\n",
       "      <td>2020-11-05T23:24:00.000Z</td>\n",
       "      <td>Satellite</td>\n",
       "      <td>8115.216</td>\n",
       "      <td>None</td>\n",
       "      <td>SpaceX will launch GPS Block III Space Vehicle...</td>\n",
       "    </tr>\n",
       "  </tbody>\n",
       "</table>\n",
       "<p>106 rows × 7 columns</p>\n",
       "</div>"
      ],
      "text/plain": [
       "     Flight Number Rocket Name          Launch Date/Time    Payload  \\\n",
       "0                1    Falcon 1  2006-03-24T22:30:00.000Z  Satellite   \n",
       "1                2    Falcon 1  2007-03-21T01:10:00.000Z  Satellite   \n",
       "2                3    Falcon 1  2008-08-03T03:34:00.000Z  Satellite   \n",
       "3                4    Falcon 1  2008-09-28T23:15:00.000Z  Satellite   \n",
       "4                5    Falcon 1  2009-07-13T03:35:00.000Z  Satellite   \n",
       "..             ...         ...                       ...        ...   \n",
       "101            102    Falcon 9  2020-09-03T12:46:00.000Z  Satellite   \n",
       "102            103    Falcon 9  2020-10-06T11:29:00.000Z  Satellite   \n",
       "103            104    Falcon 9  2020-10-18T12:25:00.000Z  Satellite   \n",
       "104            105    Falcon 9  2020-10-24T15:31:00.000Z  Satellite   \n",
       "105            106    Falcon 9  2020-11-05T23:24:00.000Z  Satellite   \n",
       "\n",
       "     Payload Weight  Crew                                    Mission Details  \n",
       "0            43.000  None   Engine failure at 33 seconds and loss of vehicle  \n",
       "1               NaN  None  Successful first stage burn and transition to ...  \n",
       "2               NaN  None  Residual stage 1 thrust led to collision betwe...  \n",
       "3           363.000  None  Ratsat was carried to orbit on the first succe...  \n",
       "4           440.000  None                                               None  \n",
       "..              ...   ...                                                ...  \n",
       "101       33951.200  None  The 11th operational batch of Starlink satelli...  \n",
       "102       33951.200  None  This mission will launch the twelfth batch of ...  \n",
       "103       33951.200  None  This mission will launch the thirteenth batch ...  \n",
       "104       33951.200  None  This mission will launch the fourteenth batch ...  \n",
       "105        8115.216  None  SpaceX will launch GPS Block III Space Vehicle...  \n",
       "\n",
       "[106 rows x 7 columns]"
      ]
     },
     "execution_count": 48,
     "metadata": {},
     "output_type": "execute_result"
    }
   ],
   "source": [
    "past_summary = []\n",
    "\n",
    "i = 0 \n",
    "for launch in past_launches:\n",
    "    data =  flight_number, rocket_name, launch_date, payload_type, payload_weight, crew, launch_details = past_launches[i]['flight_number'], past_launches[i]['rocket']['rocket_name'], past_launches[i]['launch_date_utc'],  past_launches[i]['rocket']['second_stage']['payloads'][0]['payload_type'], past_launches[i]['rocket']['second_stage']['payloads'][0]['payload_mass_lbs'], past_launches[i]['crew'], past_launches[i]['details']\n",
    "    past_summary.append(data)\n",
    "    i += 1\n",
    "\n",
    "df1 = DataFrame(data = past_summary, columns =[\"Flight Number\", \"Rocket Name\", \"Launch Date/Time\", \"Payload\", \"Payload Weight\", \"Crew\", \"Mission Details\"])\n",
    "df1"
   ]
  },
  {
   "cell_type": "code",
   "execution_count": 49,
   "metadata": {},
   "outputs": [
    {
     "name": "stdout",
     "output_type": "stream",
     "text": [
      "SpaceX launched their first launch on March 24, 2006. The mission details are as follows: Engine failure at 33 seconds and loss of vehicle. The most recent SpaceX launch was on November 05, 2020. The mission details are as follows: SpaceX will launch GPS Block III Space Vehicle 04 from SLC-40, Cape Canaveral AFS aboard a Falcon 9. GPS III is owned and operated by the US Air Force and produced by Lockheed Martin. This will be the fourth GPS III satellite launched and the third launched by SpaceX. The satellite will be delivered into a MEO transfer orbit. The booster for this mission will land on an ASDS.\n"
     ]
    }
   ],
   "source": [
    "#First SpaceX launch data and most recent SpaceX launch data\n",
    "\n",
    "first_launch_date = datetime.datetime.strptime(past_launches[0]['launch_date_utc'], datetime_format)\n",
    "recent_launch_date = datetime.datetime.strptime(past_launches[-1]['launch_date_utc'], datetime_format)\n",
    "\n",
    "print(\"SpaceX launched their first launch on {}. The mission details are as follows: {}. The most recent SpaceX launch was on {}. The mission details are as follows: {}\".format(first_launch_date.strftime(datetime_string), past_launches[0]['details'], recent_launch_date.strftime(datetime_string), past_launches[-1]['details']))\n"
   ]
  },
  {
   "cell_type": "code",
   "execution_count": 121,
   "metadata": {
    "scrolled": false
   },
   "outputs": [
    {
     "name": "stdout",
     "output_type": "stream",
     "text": [
      "There were 3 types of rockets used in the last 106 launches by SpaceX: \n",
      "(Rocket Name: Total Launches)\n",
      "Falcon 1: 5 launches\n",
      "Falcon 9: 98 launches\n",
      "Falcon Heavy: 3 launches\n"
     ]
    },
    {
     "data": {
      "text/plain": [
       "<AxesSubplot:ylabel='Rocket Usage Breakdown'>"
      ]
     },
     "execution_count": 121,
     "metadata": {},
     "output_type": "execute_result"
    },
    {
     "data": {
      "image/png": "[encoded data removed]",
      "text/plain": [
       "<Figure size 576x576 with 1 Axes>"
      ]
     },
     "metadata": {},
     "output_type": "display_data"
    }
   ],
   "source": [
    "#SpaceX rocket types and number of occurances each rocket was used in previous launches\n",
    "\n",
    "past_rockets = []\n",
    "\n",
    "def rocket_usage(data_set):\n",
    "    rocket_occurance = Counter(data_set)\n",
    "    num_rockets = rocket_occurance.items()\n",
    "    rocket_tally = {str(key): str(value) for key, value in num_rockets}\n",
    "    print(\"There were {} types of rockets used in the last {} launches by SpaceX: \".format(len(num_rockets), len(past_launches)))\n",
    "    print(\"(Rocket Name: Total Launches)\")\n",
    "    \n",
    "    for key,value in rocket_tally.items():\n",
    "        print(\"{}: {} launches\".format(key, value))\n",
    "\n",
    "\n",
    "i=0\n",
    "for launch in past_launches:\n",
    "    past_rockets.append(past_summary[i][1])\n",
    "    i+=1\n",
    "    \n",
    "rocket_usage(past_rockets)\n",
    "\n",
    "series_p_rockets = pd.Series(Counter(past_rockets), name='Rocket Usage Breakdown')\n",
    "series_p_rockets.plot.pie(labels=None, legend=True, fontsize=20, figsize=(8, 8))"
   ]
  },
  {
   "cell_type": "code",
   "execution_count": 122,
   "metadata": {},
   "outputs": [
    {
     "name": "stdout",
     "output_type": "stream",
     "text": [
      "There were 5 types of payloads included in the last 106 launches by SpaceX: \n",
      "(Payload Type: # of Launches)\n",
      "Satellite: 80\n",
      "Dragon Boilerplate: 1\n",
      "Dragon 1.0: 4\n",
      "Dragon 1.1: 18\n",
      "Crew Dragon: 3\n"
     ]
    },
    {
     "data": {
      "text/plain": [
       "<AxesSubplot:ylabel='Payloads'>"
      ]
     },
     "execution_count": 122,
     "metadata": {},
     "output_type": "execute_result"
    },
    {
     "data": {
      "image/png": "[encoded data removed]",
      "text/plain": [
       "<Figure size 576x576 with 1 Axes>"
      ]
     },
     "metadata": {},
     "output_type": "display_data"
    }
   ],
   "source": [
    "#SpaceX's payload summary from all previous launches\n",
    "\n",
    "past_payloads = []\n",
    "\n",
    "def payload_summary(data_set):\n",
    "    payload_occurance = Counter(data_set)\n",
    "    types = payload_occurance.items()\n",
    "    payload_tally = {str(key): str(value) for key, value in types}\n",
    "    print(\"There were {} types of payloads included in the last {} launches by SpaceX: \".format(len(types), len(past_launches)))\n",
    "    print(\"(Payload Type: # of Launches)\")\n",
    "    \n",
    "    for key,value in payload_tally.items():\n",
    "        print(\"{}: {}\".format(key, value))\n",
    "\n",
    "\n",
    "i = 0\n",
    "for each in past_summary:\n",
    "    past_payloads.append(past_summary[i][3])\n",
    "    i+=1\n",
    "\n",
    "payload_summary(past_payloads)\n",
    "    \n",
    "series_payload = pd.Series(Counter(past_payloads), name='Payloads')\n",
    "series_payload.plot.pie(labels=None, legend=True, fontsize=15, figsize=(8, 8))"
   ]
  },
  {
   "cell_type": "markdown",
   "metadata": {},
   "source": [
    "# Upcoming Launch Data"
   ]
  },
  {
   "cell_type": "code",
   "execution_count": 52,
   "metadata": {
    "scrolled": false
   },
   "outputs": [
    {
     "data": {
      "text/html": [
       "<div>\n",
       "<style scoped>\n",
       "    .dataframe tbody tr th:only-of-type {\n",
       "        vertical-align: middle;\n",
       "    }\n",
       "\n",
       "    .dataframe tbody tr th {\n",
       "        vertical-align: top;\n",
       "    }\n",
       "\n",
       "    .dataframe thead th {\n",
       "        text-align: right;\n",
       "    }\n",
       "</style>\n",
       "<table border=\"1\" class=\"dataframe\">\n",
       "  <thead>\n",
       "    <tr style=\"text-align: right;\">\n",
       "      <th></th>\n",
       "      <th>Flight Number</th>\n",
       "      <th>Rocket Name</th>\n",
       "      <th>Launch Time</th>\n",
       "      <th>Payload</th>\n",
       "      <th>Payload Weight</th>\n",
       "      <th>Crew</th>\n",
       "      <th>Mission Details</th>\n",
       "    </tr>\n",
       "  </thead>\n",
       "  <tbody>\n",
       "    <tr>\n",
       "      <th>0</th>\n",
       "      <td>107</td>\n",
       "      <td>Falcon 9</td>\n",
       "      <td>2020-11-15T00:49:00.000Z</td>\n",
       "      <td>Crew Dragon</td>\n",
       "      <td>NaN</td>\n",
       "      <td>[]</td>\n",
       "      <td>None</td>\n",
       "    </tr>\n",
       "    <tr>\n",
       "      <th>1</th>\n",
       "      <td>108</td>\n",
       "      <td>Falcon 9</td>\n",
       "      <td>2020-11-01T00:00:00.000Z</td>\n",
       "      <td>Satellite</td>\n",
       "      <td>NaN</td>\n",
       "      <td>None</td>\n",
       "      <td>SpaceX will launch NROL-108 for the National R...</td>\n",
       "    </tr>\n",
       "    <tr>\n",
       "      <th>2</th>\n",
       "      <td>109</td>\n",
       "      <td>Falcon 9</td>\n",
       "      <td>2020-11-21T17:17:00.000Z</td>\n",
       "      <td>Satellite</td>\n",
       "      <td>3174.657</td>\n",
       "      <td>None</td>\n",
       "      <td>None</td>\n",
       "    </tr>\n",
       "    <tr>\n",
       "      <th>3</th>\n",
       "      <td>110</td>\n",
       "      <td>Falcon 9</td>\n",
       "      <td>2020-11-01T00:00:00.000Z</td>\n",
       "      <td>Satellite</td>\n",
       "      <td>NaN</td>\n",
       "      <td>None</td>\n",
       "      <td>None</td>\n",
       "    </tr>\n",
       "    <tr>\n",
       "      <th>4</th>\n",
       "      <td>112</td>\n",
       "      <td>Falcon 9</td>\n",
       "      <td>2020-12-02T17:50:00.000Z</td>\n",
       "      <td>Dragon 1.1</td>\n",
       "      <td>NaN</td>\n",
       "      <td>None</td>\n",
       "      <td>None</td>\n",
       "    </tr>\n",
       "    <tr>\n",
       "      <th>5</th>\n",
       "      <td>113</td>\n",
       "      <td>Falcon 9</td>\n",
       "      <td>2020-12-01T00:00:00.000Z</td>\n",
       "      <td>Satellite</td>\n",
       "      <td>NaN</td>\n",
       "      <td>None</td>\n",
       "      <td>None</td>\n",
       "    </tr>\n",
       "    <tr>\n",
       "      <th>6</th>\n",
       "      <td>123</td>\n",
       "      <td>Falcon 9</td>\n",
       "      <td>2021-07-01T00:00:00.000Z</td>\n",
       "      <td>Satellite</td>\n",
       "      <td>NaN</td>\n",
       "      <td>None</td>\n",
       "      <td>None</td>\n",
       "    </tr>\n",
       "  </tbody>\n",
       "</table>\n",
       "</div>"
      ],
      "text/plain": [
       "   Flight Number Rocket Name               Launch Time      Payload  \\\n",
       "0            107    Falcon 9  2020-11-15T00:49:00.000Z  Crew Dragon   \n",
       "1            108    Falcon 9  2020-11-01T00:00:00.000Z    Satellite   \n",
       "2            109    Falcon 9  2020-11-21T17:17:00.000Z    Satellite   \n",
       "3            110    Falcon 9  2020-11-01T00:00:00.000Z    Satellite   \n",
       "4            112    Falcon 9  2020-12-02T17:50:00.000Z   Dragon 1.1   \n",
       "5            113    Falcon 9  2020-12-01T00:00:00.000Z    Satellite   \n",
       "6            123    Falcon 9  2021-07-01T00:00:00.000Z    Satellite   \n",
       "\n",
       "   Payload Weight  Crew                                    Mission Details  \n",
       "0             NaN    []                                               None  \n",
       "1             NaN  None  SpaceX will launch NROL-108 for the National R...  \n",
       "2        3174.657  None                                               None  \n",
       "3             NaN  None                                               None  \n",
       "4             NaN  None                                               None  \n",
       "5             NaN  None                                               None  \n",
       "6             NaN  None                                               None  "
      ]
     },
     "execution_count": 52,
     "metadata": {},
     "output_type": "execute_result"
    }
   ],
   "source": [
    "upcoming_summary = []\n",
    "\n",
    "i = 0\n",
    "for launch in upcoming_launches:\n",
    "    data =  flight_number, rocket_name, launch_date, payload_type, payload_weight, crew, launch_details = upcoming_launches[i]['flight_number'], upcoming_launches[i]['rocket']['rocket_name'], upcoming_launches[i]['launch_date_utc'],  upcoming_launches[i]['rocket']['second_stage']['payloads'][0]['payload_type'], upcoming_launches[i]['rocket']['second_stage']['payloads'][0]['payload_mass_lbs'], upcoming_launches[i]['crew'], upcoming_launches[i]['details']\n",
    "    upcoming_summary.append(data)\n",
    "    i += 1\n",
    "\n",
    "df2 = DataFrame(data = upcoming_summary, columns =[\"Flight Number\", \"Rocket Name\", \"Launch Time\", \"Payload\", \"Payload Weight\", \"Crew\", \"Mission Details\"])\n",
    "df2"
   ]
  },
  {
   "cell_type": "code",
   "execution_count": 61,
   "metadata": {
    "scrolled": true
   },
   "outputs": [
    {
     "name": "stdout",
     "output_type": "stream",
     "text": [
      "Upcoming launch dates and time information:\n",
      "Flight 107 is scheduled to launch on November 01, 2020 at approximately 12:00AM local time.\n",
      "Flight 108 is scheduled to launch on November 01, 2020 at approximately 12:00AM local time.\n",
      "Flight 109 is scheduled to launch on November 15, 2020 at approximately 12:49AM local time.\n",
      "Flight 110 is scheduled to launch on November 21, 2020 at approximately 05:17PM local time.\n",
      "Flight 112 is scheduled to launch on December 01, 2020 at approximately 12:00AM local time.\n",
      "Flight 113 is scheduled to launch on December 02, 2020 at approximately 05:50PM local time.\n",
      "Flight 123 is scheduled to launch on July 01, 2021 at approximately 12:00AM local time.\n"
     ]
    }
   ],
   "source": [
    "#Upcoming launch dates and times\n",
    "#Since this is a third party API, some launches may not be updated and may not reflect the most up to date information\n",
    "\n",
    "launch_days = []\n",
    "\n",
    "now = datetime.datetime.now()\n",
    "\n",
    "def format_time(data):\n",
    "    print(\"Upcoming launch dates and time information:\")\n",
    "    \n",
    "    i=0\n",
    "    for each in data:\n",
    "        launch_day = data[i][2]\n",
    "        date = datetime.datetime.strptime(launch_day, datetime_format)\n",
    "        launch_days.append(date)\n",
    "        i += 1 \n",
    "    \n",
    "    launch_days.sort()\n",
    "    \n",
    "    x=0\n",
    "    for each in data:\n",
    "        date = launch_days[x].strftime(date_string)\n",
    "        time = launch_days[x].strftime(time_string)\n",
    "        print(\"Flight {} is scheduled to launch on {} at approximately {} local time.\".format(data[x][0], date, time))\n",
    "        x +=1\n",
    "        \n",
    "    \n",
    "format_time(upcoming_summary)"
   ]
  },
  {
   "cell_type": "code",
   "execution_count": 117,
   "metadata": {
    "scrolled": false
   },
   "outputs": [
    {
     "name": "stdout",
     "output_type": "stream",
     "text": [
      "Upcoming launch countdowns as of November 12, 2020 at 08:14PM.\n",
      "Oops, sorry...Flight 107 launched on November 01, 2020. You missed it by -12 days, 3:45:23.153686.\n",
      "Oops, sorry...Flight 108 launched on November 01, 2020. You missed it by -12 days, 3:45:23.153686.\n",
      "Time remaining until launch of flight 109: 2 days, 4:34:23.153686\n",
      "Time remaining until launch of flight 110: 8 days, 21:02:23.153686\n",
      "Time remaining until launch of flight 112: 18 days, 3:45:23.153686\n",
      "Time remaining until launch of flight 113: 19 days, 21:35:23.153686\n",
      "Time remaining until launch of flight 123: 230 days, 3:45:23.153686\n"
     ]
    }
   ],
   "source": [
    "#TODO: FIX THIS!\n",
    "#Upcoming launch dates countdowns\n",
    "\n",
    "now_date = now.date().strftime(date_string)\n",
    "now_time = now.time().strftime(time_string)\n",
    "\n",
    "def time_remaining(data):\n",
    "    i=0\n",
    "    for each in launch_days:\n",
    "        date = launch_days[i].date().strftime(date_string)\n",
    "        delta = launch_days[i] - now\n",
    "        \n",
    "        if int(delta.days) < 0 :\n",
    "            print(\"Oops, sorry...Flight {} launched on {}. You missed it by {}.\".format(data[i][0], date, delta))\n",
    "        else:\n",
    "            print(\"Time remaining until launch of flight {}: {}\".format(data[i][0], delta))\n",
    "        i += 1\n",
    "\n",
    "\n",
    "print(\"Upcoming launch countdowns as of {} at {}.\".format(now_date, now_time))\n",
    "\n",
    "time_remaining(upcoming_summary)\n"
   ]
  },
  {
   "cell_type": "code",
   "execution_count": 123,
   "metadata": {},
   "outputs": [
    {
     "name": "stdout",
     "output_type": "stream",
     "text": [
      "SpaceX will utilize 1 type(s) of rocket(s) in the next 7 launches:\n",
      "(Rocket Name: Total Launches)\n",
      "Falcon 9: 7 upcoming launches\n"
     ]
    },
    {
     "data": {
      "text/plain": [
       "<AxesSubplot:ylabel='Rockets to be Utilized'>"
      ]
     },
     "execution_count": 123,
     "metadata": {},
     "output_type": "execute_result"
    },
    {
     "data": {
      "image/png": "[encoded data removed]",
      "text/plain": [
       "<Figure size 576x576 with 1 Axes>"
      ]
     },
     "metadata": {},
     "output_type": "display_data"
    }
   ],
   "source": [
    "#SpaceX rocket types and number of occurances each rocket will be used in upcoming launches\n",
    "upcoming_rockets = []\n",
    "\n",
    "def rockets_to_use(data_set):\n",
    "    rocket_occurance = Counter(data_set)\n",
    "    num_rockets = rocket_occurance.items()\n",
    "    rocket_tally = {str(key): str(value) for key, value in num_rockets}\n",
    "    print(\"SpaceX will utilize {} type(s) of rocket(s) in the next {} launches:\".format(len(num_rockets), len(upcoming_summary)))\n",
    "    print(\"(Rocket Name: Total Launches)\")\n",
    "    \n",
    "    for key,value in rocket_tally.items():\n",
    "        print(\"{}: {} upcoming launches\".format(key, value))\n",
    "\n",
    "\n",
    "i=0\n",
    "for launch in upcoming_summary:\n",
    "    upcoming_rockets.append(upcoming_summary[i][1])\n",
    "    i+=1\n",
    "    \n",
    "rockets_to_use(upcoming_rockets)\n",
    "\n",
    "series_u_rockets = pd.Series(Counter(upcoming_rockets), name='Rockets to be Utilized')\n",
    "series_u_rockets.plot.pie(labels=None, legend=True, fontsize=20, figsize=(8, 8))"
   ]
  },
  {
   "cell_type": "code",
   "execution_count": 128,
   "metadata": {},
   "outputs": [
    {
     "name": "stdout",
     "output_type": "stream",
     "text": [
      "There are 3 type(s) of payload(s) that will be launched on the next 7 launches by SpaceX: \n",
      "(Payload Type: # of Launches)\n",
      "Crew Dragon: 1\n",
      "Satellite: 5\n",
      "Dragon 1.1: 1\n"
     ]
    },
    {
     "data": {
      "text/plain": [
       "<AxesSubplot:ylabel='Upcoming Payloads'>"
      ]
     },
     "execution_count": 128,
     "metadata": {},
     "output_type": "execute_result"
    },
    {
     "data": {
      "image/png": "[encoded data removed]",
      "text/plain": [
       "<Figure size 576x576 with 1 Axes>"
      ]
     },
     "metadata": {},
     "output_type": "display_data"
    }
   ],
   "source": [
    "#SpaceX's payload overview all upcoming, scheduled launches\n",
    "\n",
    "upcoming_payloads = []\n",
    "\n",
    "def future_payloads(data_set):\n",
    "    payload_occurance = Counter(data_set)\n",
    "    types = payload_occurance.items()\n",
    "    payload_tally = {str(key): str(value) for key, value in types}\n",
    "    print(\"There are {} type(s) of payload(s) that will be launched on the next {} launches by SpaceX: \".format(len(types), len(upcoming_summary)))\n",
    "    print(\"(Payload Type: # of Launches)\")\n",
    "    \n",
    "    for key,value in payload_tally.items():\n",
    "        print(\"{}: {}\".format(key, value))\n",
    "\n",
    "\n",
    "i = 0\n",
    "for each in upcoming_summary:\n",
    "    upcoming_payloads.append(upcoming_summary[i][3])\n",
    "    i+=1\n",
    "\n",
    "future_payloads(upcoming_payloads)\n",
    "    \n",
    "series_u_payload = pd.Series(Counter(upcoming_payloads), name='Upcoming Payloads')\n",
    "series_u_payload.plot.pie(labels=None, legend=True, fontsize=15, figsize=(8, 8))"
   ]
  }
 ],
 "metadata": {
  "kernelspec": {
   "display_name": "Python 3",
   "language": "python",
   "name": "python3"
  },
  "language_info": {
   "codemirror_mode": {
    "name": "ipython",
    "version": 3
   },
   "file_extension": ".py",
   "mimetype": "text/x-python",
   "name": "python",
   "nbconvert_exporter": "python",
   "pygments_lexer": "ipython3",
   "version": "3.8.5"
  }
 },
 "nbformat": 4,
 "nbformat_minor": 4
}
