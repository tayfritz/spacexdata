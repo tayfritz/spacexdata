{
 "cells": [
  {
   "cell_type": "code",
   "execution_count": 1,
   "metadata": {},
   "outputs": [],
   "source": [
    "import requests\n",
    "import pandas as pd\n",
    "from pandas import DataFrame\n",
    "import datetime\n",
    "import pytz"
   ]
  },
  {
   "cell_type": "code",
   "execution_count": 2,
   "metadata": {},
   "outputs": [],
   "source": [
    "URL = 'https://api.spacexdata.com/v3/launches/upcoming'"
   ]
  },
  {
   "cell_type": "code",
   "execution_count": 3,
   "metadata": {},
   "outputs": [],
   "source": [
    "r = requests.get(URL)"
   ]
  },
  {
   "cell_type": "code",
   "execution_count": 4,
   "metadata": {},
   "outputs": [],
   "source": [
    "launches = r.json()"
   ]
  },
  {
   "cell_type": "code",
   "execution_count": 5,
   "metadata": {
    "scrolled": false
   },
   "outputs": [
    {
     "data": {
      "text/plain": [
       "7"
      ]
     },
     "execution_count": 5,
     "metadata": {},
     "output_type": "execute_result"
    }
   ],
   "source": [
    "len(launches)"
   ]
  },
  {
   "cell_type": "code",
   "execution_count": 6,
   "metadata": {
    "scrolled": true
   },
   "outputs": [
    {
     "data": {
      "text/html": [
       "<div>\n",
       "<style scoped>\n",
       "    .dataframe tbody tr th:only-of-type {\n",
       "        vertical-align: middle;\n",
       "    }\n",
       "\n",
       "    .dataframe tbody tr th {\n",
       "        vertical-align: top;\n",
       "    }\n",
       "\n",
       "    .dataframe thead th {\n",
       "        text-align: right;\n",
       "    }\n",
       "</style>\n",
       "<table border=\"1\" class=\"dataframe\">\n",
       "  <thead>\n",
       "    <tr style=\"text-align: right;\">\n",
       "      <th></th>\n",
       "      <th>Flight Number</th>\n",
       "      <th>Rocket Name</th>\n",
       "      <th>Launch Time</th>\n",
       "      <th>Payload</th>\n",
       "      <th>Payload Weight</th>\n",
       "      <th>Crew</th>\n",
       "      <th>Mission Details</th>\n",
       "    </tr>\n",
       "  </thead>\n",
       "  <tbody>\n",
       "    <tr>\n",
       "      <th>0</th>\n",
       "      <td>107</td>\n",
       "      <td>Falcon 9</td>\n",
       "      <td>2020-11-15T00:49:00.000Z</td>\n",
       "      <td>Crew Dragon</td>\n",
       "      <td>NaN</td>\n",
       "      <td>[]</td>\n",
       "      <td>None</td>\n",
       "    </tr>\n",
       "    <tr>\n",
       "      <th>1</th>\n",
       "      <td>108</td>\n",
       "      <td>Falcon 9</td>\n",
       "      <td>2020-11-01T00:00:00.000Z</td>\n",
       "      <td>Satellite</td>\n",
       "      <td>NaN</td>\n",
       "      <td>None</td>\n",
       "      <td>SpaceX will launch NROL-108 for the National R...</td>\n",
       "    </tr>\n",
       "    <tr>\n",
       "      <th>2</th>\n",
       "      <td>109</td>\n",
       "      <td>Falcon 9</td>\n",
       "      <td>2020-11-21T17:17:00.000Z</td>\n",
       "      <td>Satellite</td>\n",
       "      <td>3174.657</td>\n",
       "      <td>None</td>\n",
       "      <td>None</td>\n",
       "    </tr>\n",
       "    <tr>\n",
       "      <th>3</th>\n",
       "      <td>110</td>\n",
       "      <td>Falcon 9</td>\n",
       "      <td>2020-11-01T00:00:00.000Z</td>\n",
       "      <td>Satellite</td>\n",
       "      <td>NaN</td>\n",
       "      <td>None</td>\n",
       "      <td>None</td>\n",
       "    </tr>\n",
       "    <tr>\n",
       "      <th>4</th>\n",
       "      <td>112</td>\n",
       "      <td>Falcon 9</td>\n",
       "      <td>2020-12-02T17:50:00.000Z</td>\n",
       "      <td>Dragon 1.1</td>\n",
       "      <td>NaN</td>\n",
       "      <td>None</td>\n",
       "      <td>None</td>\n",
       "    </tr>\n",
       "    <tr>\n",
       "      <th>5</th>\n",
       "      <td>113</td>\n",
       "      <td>Falcon 9</td>\n",
       "      <td>2020-12-01T00:00:00.000Z</td>\n",
       "      <td>Satellite</td>\n",
       "      <td>NaN</td>\n",
       "      <td>None</td>\n",
       "      <td>None</td>\n",
       "    </tr>\n",
       "    <tr>\n",
       "      <th>6</th>\n",
       "      <td>123</td>\n",
       "      <td>Falcon 9</td>\n",
       "      <td>2021-07-01T00:00:00.000Z</td>\n",
       "      <td>Satellite</td>\n",
       "      <td>NaN</td>\n",
       "      <td>None</td>\n",
       "      <td>None</td>\n",
       "    </tr>\n",
       "  </tbody>\n",
       "</table>\n",
       "</div>"
      ],
      "text/plain": [
       "   Flight Number Rocket Name               Launch Time      Payload  \\\n",
       "0            107    Falcon 9  2020-11-15T00:49:00.000Z  Crew Dragon   \n",
       "1            108    Falcon 9  2020-11-01T00:00:00.000Z    Satellite   \n",
       "2            109    Falcon 9  2020-11-21T17:17:00.000Z    Satellite   \n",
       "3            110    Falcon 9  2020-11-01T00:00:00.000Z    Satellite   \n",
       "4            112    Falcon 9  2020-12-02T17:50:00.000Z   Dragon 1.1   \n",
       "5            113    Falcon 9  2020-12-01T00:00:00.000Z    Satellite   \n",
       "6            123    Falcon 9  2021-07-01T00:00:00.000Z    Satellite   \n",
       "\n",
       "   Payload Weight  Crew                                    Mission Details  \n",
       "0             NaN    []                                               None  \n",
       "1             NaN  None  SpaceX will launch NROL-108 for the National R...  \n",
       "2        3174.657  None                                               None  \n",
       "3             NaN  None                                               None  \n",
       "4             NaN  None                                               None  \n",
       "5             NaN  None                                               None  \n",
       "6             NaN  None                                               None  "
      ]
     },
     "execution_count": 6,
     "metadata": {},
     "output_type": "execute_result"
    }
   ],
   "source": [
    "flight_number = []\n",
    "\n",
    "upcoming_summary = []\n",
    "\n",
    "i = 0\n",
    "for launch in launches:\n",
    "    data =  flight_number, rocket_name, launch_date, payload_type, payload_weight, crew, launch_details = launches[i]['flight_number'], launches[i]['rocket']['rocket_name'], launches[i]['launch_date_utc'],  launches[i]['rocket']['second_stage']['payloads'][0]['payload_type'], launches[i]['rocket']['second_stage']['payloads'][0]['payload_mass_lbs'], launches[i]['crew'], launches[i]['details']\n",
    "    upcoming_summary.append(data)\n",
    "    i += 1\n",
    "\n",
    "df = DataFrame(data = upcoming_summary, columns =[\"Flight Number\", \"Rocket Name\", \"Launch Time\", \"Payload\", \"Payload Weight\", \"Crew\", \"Mission Details\"])\n",
    "df"
   ]
  },
  {
   "cell_type": "code",
   "execution_count": 12,
   "metadata": {},
   "outputs": [
    {
     "name": "stdout",
     "output_type": "stream",
     "text": [
      "2021-07-01T00:00:00.000Z\n"
     ]
    }
   ],
   "source": [
    "print(launch_date)"
   ]
  },
  {
   "cell_type": "code",
   "execution_count": 13,
   "metadata": {
    "scrolled": true
   },
   "outputs": [
    {
     "name": "stdout",
     "output_type": "stream",
     "text": [
      "Upcoming launch dates and time information:\n",
      "Flight 107 will launch on November 15, 2020 at approximately 00:49\n",
      "Flight 108 will launch on November 01, 2020 at approximately 00:00\n",
      "Flight 109 will launch on November 21, 2020 at approximately 17:17\n",
      "Flight 110 will launch on November 01, 2020 at approximately 00:00\n",
      "Flight 112 will launch on December 02, 2020 at approximately 17:50\n",
      "Flight 113 will launch on December 01, 2020 at approximately 00:00\n",
      "Flight 123 will launch on July 01, 2021 at approximately 00:00\n"
     ]
    }
   ],
   "source": [
    "#Okay... I can't miss it. Jupyter: set me a timer for these launches...\n",
    "\n",
    "launch_days = []\n",
    "\n",
    "def format_time(launch_times):\n",
    "    print(\"Upcoming launch dates and time information:\")\n",
    "    \n",
    "    i=0\n",
    "    for each in launch_times:\n",
    "        launch_day = launch_times[i][2]\n",
    "        date = datetime.datetime.strptime(launch_day, \"%Y-%m-%dT%H:%M:%S.%fZ\")\n",
    "        launch_days.append(date)\n",
    "        i += 1 \n",
    "    \n",
    "    x=0\n",
    "    for each in launch_days:\n",
    "        date = launch_days[x].strftime(\"%B %d, %Y\")\n",
    "        time = launch_days[x].strftime(\"%H:%M\") #TODO: Need to put this on 12 hour and add am/pm\n",
    "        print(\"Flight {} will launch on {} at approximately {}\".format(launch_times[x][0], date, time))\n",
    "        x +=1\n",
    "        \n",
    "format_time(upcoming_summary)\n"
   ]
  },
  {
   "cell_type": "code",
   "execution_count": 10,
   "metadata": {},
   "outputs": [
    {
     "name": "stdout",
     "output_type": "stream",
     "text": [
      "Time remaining until launch: 4 days, 5:00:51.868368\n",
      "This launch occured on 2020-11-01. You missed it by -10 days, 4:11:51.868368.\n",
      "Time remaining until launch: 10 days, 21:28:51.868368\n",
      "This launch occured on 2020-11-01. You missed it by -10 days, 4:11:51.868368.\n",
      "Time remaining until launch: 21 days, 22:01:51.868368\n",
      "Time remaining until launch: 20 days, 4:11:51.868368\n",
      "Time remaining until launch: 232 days, 4:11:51.868368\n"
     ]
    }
   ],
   "source": [
    "#TODO: format time\n",
    "\n",
    "def time_remaining(launch_data):\n",
    "    now = datetime.datetime.now()\n",
    "    \n",
    "    i=0\n",
    "    for each in launch_days:\n",
    "        timedelta = launch_days[i] - now\n",
    "        date = launch_days[i].date()\n",
    "        if int(timedelta.days) < 0 :\n",
    "            print(\"This launch occured on {}. You missed it by {}.\".format(date, timedelta))\n",
    "        else:\n",
    "            print(\"Time remaining until launch: {}\".format(timedelta))\n",
    "        i += 1\n",
    "\n",
    "time_remaining(upcoming_summary)\n",
    "    "
   ]
  },
  {
   "cell_type": "code",
   "execution_count": 11,
   "metadata": {},
   "outputs": [
    {
     "ename": "IndentationError",
     "evalue": "unexpected indent (<ipython-input-11-03a8c13597b2>, line 2)",
     "output_type": "error",
     "traceback": [
      "\u001b[0;36m  File \u001b[0;32m\"<ipython-input-11-03a8c13597b2>\"\u001b[0;36m, line \u001b[0;32m2\u001b[0m\n\u001b[0;31m    for each in launch_data:\u001b[0m\n\u001b[0m    ^\u001b[0m\n\u001b[0;31mIndentationError\u001b[0m\u001b[0;31m:\u001b[0m unexpected indent\n"
     ]
    }
   ],
   "source": [
    "i = 0\n",
    "    for each in launch_data:\n",
    "        print(\"Flight {}: {}\".format(launch_data[i][0], launch_data[i][2]))\n",
    "        i += 1"
   ]
  },
  {
   "cell_type": "code",
   "execution_count": null,
   "metadata": {},
   "outputs": [],
   "source": []
  }
 ],
 "metadata": {
  "kernelspec": {
   "display_name": "Python 3",
   "language": "python",
   "name": "python3"
  },
  "language_info": {
   "codemirror_mode": {
    "name": "ipython",
    "version": 3
   },
   "file_extension": ".py",
   "mimetype": "text/x-python",
   "name": "python",
   "nbconvert_exporter": "python",
   "pygments_lexer": "ipython3",
   "version": "3.8.5"
  }
 },
 "nbformat": 4,
 "nbformat_minor": 4
}
